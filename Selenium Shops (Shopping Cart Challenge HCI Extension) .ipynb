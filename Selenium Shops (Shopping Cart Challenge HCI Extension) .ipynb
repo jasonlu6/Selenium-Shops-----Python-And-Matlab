{
 "cells": [
  {
   "cell_type": "markdown",
   "metadata": {},
   "source": [
    "# Main Assignment: \n",
    "\n",
    "Create a class called ShoppingCart.  Create a constructor that takes no arguments and sets the total attribute to zero, and initializes an empty dict attribute named items.\n",
    "\n",
    "Create a method add_item that requires item_name, quantity and price arguments. This method should add the cost of the added items to the current value of total. It should also add an entry to the items dict such that the key is the item_name and the value is the quantity of the item.\n",
    "\n",
    "Create a method remove_item that requires similar arguments as add_item. It should remove items that have been added to the shopping cart and are not required. This method should deduct the cost of the removed items from the current total and also update the items dict accordingly.\n",
    "\n",
    "If the quantity of an item to be removed exceeds the current quantity of that item in the cart, assume that all entries of that item are to be removed.\n",
    "\n",
    "Create a method checkout that takes in cash_paid and returns the value of balance from the payment. If cash_paid is not enough to cover the total, return \"Cash paid not enough\".\n",
    "\n",
    "Create a class called Shop that has a constructor which takes no arguments and initializes an attribute called quantity at 100.\n",
    "\n",
    "# Optional (more advanced OOP) \n",
    "\n",
    "Make sure Shop inherits from ShoppingCart.\n",
    "\n",
    "In the Shop class, override the remove_item method, such that calling Shop's remove_item with no arguments decrements quantity by one."
   ]
  },
  {
   "cell_type": "markdown",
   "metadata": {},
   "source": [
    "# Selenium Web Driver (Web Dev / UI Embellishment) \n",
    "\n",
    "In a browser, navigation to http://automationpractice.com/ website (ensure that no extensions block the website, i.e. Norton Security). The exercise will test both selenium coding and comparison between the dresses total price and the calculated total price. \n",
    "\n",
    "In detail, we verify the following: \n",
    "\n",
    "1) All 5 dresses are listed on the summary page \n",
    "2) The total price of each dress is correct. \n",
    "3) The total products price is the sume of the total price of each dress. \n",
    "\n",
    "Requirements: \n",
    "\n",
    "Test case must be re-runnable. \n",
    "\n",
    "Should work on all browsers (mostly Chrome and Firefox)\n",
    "\n",
    "Not run with any errors or browser websites incompatible "
   ]
  },
  {
   "cell_type": "code",
   "execution_count": 3,
   "metadata": {},
   "outputs": [
    {
     "data": {
      "text/plain": [
       "'\\nclass Shop(ShoppingCart):\\n    \\n    def __init__():\\n        self.quantity = 100\\n    \\n    def remove_item(self):\\n        self.quantity -= 1\\n'"
      ]
     },
     "execution_count": 3,
     "metadata": {},
     "output_type": "execute_result"
    }
   ],
   "source": [
    "class ShoppingCart():\n",
    " \n",
    "    # function to initialize the shopping cart. \n",
    "    def __init__(self):\n",
    "        self.dict_items = {}\n",
    "        self.total = 0\n",
    "    \n",
    "    # function to add cost of added items \n",
    "    def add_item(self, item_name, quantity, price):\n",
    "        # get the total \n",
    "        self.total = price * quantity \n",
    "        # add entry to the dict (using Python key, value shortcut)\n",
    "        self.dict_items.update({item_name: quantity})\n",
    "    \n",
    "    # function to remove cost of removed items \n",
    "    def remove_item(self, item_name, quantity, price):\n",
    "        if item_name in self.dict_items:\n",
    "            # ensure no duplicates in the shopping cart for items \n",
    "            if quantity > 0 and quantity < self.dict_items[item_name]:\n",
    "                # remove the item here. \n",
    "                self.dict_items[item_name] -= quantity \n",
    "                # reduce quantity from the total \n",
    "                self.total -= price * quantity \n",
    "            \n",
    "            # quantity of an item to be removed exceeds the current quantity \n",
    "            # of that item in the cart, assume that all entries of that item are to be removed.\n",
    "        elif quantity >= self.dict_items[item_name]:\n",
    "            self.total -= self.dict_items[item_name] * price \n",
    "            # remove with \"del\" function\n",
    "            del self.dict_items[item_name]\n",
    "        \n",
    "        \n",
    "    # function to return the value of balance from the payment. \n",
    "    def checkout(self, cash_paid):\n",
    "        # find the value of balance from payment. \n",
    "        if cash_paid < self.total:\n",
    "            return \"Cash paid not enough\"\n",
    "        balance =  cash_paid - self.total\n",
    "        print(\"The balance is: \" + str(balance))\n",
    "        return balance \n",
    "        \n",
    "# Shop inheritance over shopping cart class \n",
    "\"\"\"\n",
    "class Shop(ShoppingCart):\n",
    "    \n",
    "    def __init__():\n",
    "        self.quantity = 100\n",
    "    \n",
    "    def remove_item(self):\n",
    "        self.quantity -= 1\n",
    "\"\"\""
   ]
  },
  {
   "cell_type": "code",
   "execution_count": 4,
   "metadata": {},
   "outputs": [
    {
     "name": "stdout",
     "output_type": "stream",
     "text": [
      "The balance is: 50\n"
     ]
    },
    {
     "data": {
      "text/plain": [
       "50"
      ]
     },
     "execution_count": 4,
     "metadata": {},
     "output_type": "execute_result"
    }
   ],
   "source": [
    "# PDP style tests. \n",
    "\n",
    "sc = ShoppingCart()\n",
    "sc.add_item(\"Curry 6\",1,50)\n",
    "sc.checkout(100)"
   ]
  },
  {
   "cell_type": "code",
   "execution_count": 5,
   "metadata": {},
   "outputs": [
    {
     "name": "stdout",
     "output_type": "stream",
     "text": [
      "The balance is: 168\n",
      "The total is: 139\n",
      "The balance is: 139\n"
     ]
    },
    {
     "data": {
      "text/plain": [
       "139"
      ]
     },
     "execution_count": 5,
     "metadata": {},
     "output_type": "execute_result"
    }
   ],
   "source": [
    "sc.add_item(\"Printed Dress\",2,26)\n",
    "sc.add_item(\"Printed Summer Dress\",2,29)\n",
    "sc.add_item(\"Printed Chiffon Dress\",1,16)\n",
    "sc.remove_item(\"Printed Summer Dress\",1,29)\n",
    "print(\"The total is: \" + str(sc.checkout(155) - 29))\n",
    "sc.checkout(126)\n"
   ]
  },
  {
   "cell_type": "code",
   "execution_count": null,
   "metadata": {
    "collapsed": true
   },
   "outputs": [],
   "source": [
    "def test_checkout():\n",
    "    self.cart.checkout(0)"
   ]
  },
  {
   "cell_type": "code",
   "execution_count": null,
   "metadata": {
    "collapsed": true
   },
   "outputs": [],
   "source": [
    "# Selenium update: read from website and try to web scrape. \n",
    "# Credit: CS 506 Prof. Smith code \n",
    "\n",
    "from selenium import webdriver \n",
    "from time import sleep "
   ]
  },
  {
   "cell_type": "code",
   "execution_count": null,
   "metadata": {
    "collapsed": true
   },
   "outputs": [],
   "source": [
    "# use selenium to open browser and XPath\n",
    "\n",
    "driver = webdriver.Chrome(\"/usr/local/bin/chromedriver\")\n",
    "url = \"http://automationpractice.com/index.php\"\n",
    "\n",
    "driver.get(url)\n",
    "\n"
   ]
  },
  {
   "cell_type": "code",
   "execution_count": null,
   "metadata": {
    "collapsed": true
   },
   "outputs": [],
   "source": [
    "# Read item and price in dress page \n",
    "\n",
    "dress_items = []\n",
    "\n",
    "product_count = driver.find_elements_by_xpath('//*[@id=\"center_column\"]/div[3]/div[2]/div[2]')\n",
    "\n",
    "for i in range(len(dress_items)):\n",
    "    dress_items[i] = \"\"\n",
    "    dress_items[i][\"src\"] = '//*[@id=\"center_column\"]/ul/li[1]/div/div[1]/div/a[1]/img'\n",
    "    \n",
    "    \n",
    "    price_dress = driver.find_elements_by_xpath('//*[@id=\"center_column\"]/ul/li[1]/div/div[2]/div[1]/span')\n",
    "    dress_items[i][\"price\"] = prices_dress.getAttribute()\n",
    "    print(\"Dress item: \" + str(dress_items[i][\"price\"]))\n",
    "    \n",
    "\n"
   ]
  },
  {
   "cell_type": "code",
   "execution_count": null,
   "metadata": {
    "collapsed": true
   },
   "outputs": [],
   "source": [
    "dict_dresses[0] = driver.find_elements_by_xpath('//*[@id=\"center_column\"]/ul/li[1]/div/div[1]/div/a[1]/img')\n",
    "\n",
    "    \n",
    "\n",
    "dresses = driver.find_elements_by_xpath('//*[@id=\"block_top_menu\"]/ul/li[2]/a')\n",
    "\n",
    "dresses.click()"
   ]
  },
  {
   "cell_type": "code",
   "execution_count": null,
   "metadata": {
    "collapsed": true
   },
   "outputs": [],
   "source": [
    "# compare lists \n",
    "list_compare = []\n",
    "list_actual = []\n",
    "\n",
    "def compare_lists(list_compare, list_actual):\n",
    "    for i in range(len(list_compare)):\n",
    "        if list_compare[i] in list_actual[i]:\n",
    "            return True \n",
    "        else: \n",
    "            return False "
   ]
  },
  {
   "cell_type": "markdown",
   "metadata": {
    "collapsed": true
   },
   "source": [
    "# Assignment 2: HCI / Design Extension: \n",
    "\n",
    "Goals with the HCI Design Extension: \n",
    "\n",
    "1) Enhance understanding of problem space within a design\n",
    "\n",
    "2) Provide a clear example of interaction style and decisions about conceptual design,\n",
    "mainly what is the most efficient way to get the aggregate dress prices in the website and using automation techniques, compare it with the hand-calculated aggregate price?\n",
    "\n",
    "3) Real-world application (plus potential internship / co-op task) to interactive systems and machine learning approaches to testing and training data to calculate dress pricing. Mainly, regression and classification learning.\n",
    "\n",
    "4) Cool, in that you can build a web app whilst learning HCI :-)\n",
    "\n",
    "The “Selenium Web Driver” application should be able to do the following:\n",
    "\n",
    "1) Calculate all of the prices aggregate for the 5 dresses.\n",
    "\n",
    "2) Use the XPath to get all of the necessary information.\n",
    "\n",
    "3) Ensure that the Selenium web driver does not result in any HTTP code errors.\n",
    "\n",
    "4) Use basics of MATLAB and data analytics to determine which customer had the best cognitive design and reasoning and the mechanisms in which HCI programs collaborate to design a solution to a complicated (on paper) problem.\n"
   ]
  },
  {
   "cell_type": "markdown",
   "metadata": {},
   "source": [
    "# Rewriting the Shopping Cart to a Dynamic Programming Solution "
   ]
  },
  {
   "cell_type": "code",
   "execution_count": 6,
   "metadata": {
    "collapsed": true
   },
   "outputs": [],
   "source": [
    "class ShoppingCart():\n",
    "    # an array to store the items \n",
    "    array = []\n",
    "    \n",
    "    # function to initialize the shopping cart. \n",
    "    def __init__(self):\n",
    "        self.dict_items = {}\n",
    "        self.total = 0\n",
    "    \n",
    "    # function to add cost of added items \n",
    "    def add_item(self, item_name, quantity, price):\n",
    "        # get the total \n",
    "        self.total = price * quantity \n",
    "        # add entry to the dict (using Python key, value shortcut)\n",
    "        self.dict_items.update({item_name: quantity})\n",
    "    \n",
    "    # function to remove cost of removed items \n",
    "    def remove_item(self, item_name, quantity, price):\n",
    "        # unique quantifier to avoid duplicates \n",
    "        if item_name in self.dict_items and item_name in set(self.dict_items):\n",
    "            # ensure no duplicates in the shopping cart for items \n",
    "            if quantity > 0 and quantity < self.dict_items[item_name]:\n",
    "                # remove the item here. \n",
    "                self.dict_items[item_name] -= quantity \n",
    "                # reduce quantity from the total \n",
    "                self.total -= price * quantity \n",
    "                # add to the array \n",
    "                array.insert(self.total)\n",
    "            \n",
    "            # quantity of an item to be removed exceeds the current quantity \n",
    "            # of that item in the cart, assume that all entries of that item are to be removed.\n",
    "        elif quantity >= self.dict_items[item_name]:\n",
    "            self.total -= self.dict_items[item_name] * price \n",
    "            # remove with \"del\" function\n",
    "            del self.dict_items[item_name]\n",
    "            # remove from the array \n",
    "            array.delete(self.total)\n",
    "        \n",
    "        \n",
    "    # function to return the value of balance from the payment. \n",
    "    def checkout(self, cash_paid):\n",
    "        # find the value of balance from payment. \n",
    "        if cash_paid < self.total:\n",
    "            return \"Cash paid not enough\"\n",
    "        balance =  cash_paid - self.total\n",
    "        print(\"The balance is: \" + str(balance))\n",
    "        # memoize in the array \n",
    "        array.insert(balance)\n",
    "        return balance \n",
    "        \n",
    "# Shop inheritance over shopping cart class \n",
    "class Shop(ShoppingCart):\n",
    "    \n",
    "    def __init__():\n",
    "        self.quantity = 100\n",
    "    \n",
    "    def remove_item(self):\n",
    "        self.quantity -= 1"
   ]
  },
  {
   "cell_type": "markdown",
   "metadata": {},
   "source": [
    "# Customer Class "
   ]
  },
  {
   "cell_type": "code",
   "execution_count": 7,
   "metadata": {
    "collapsed": true
   },
   "outputs": [],
   "source": [
    "# Coding: Customer Class\n",
    "\n",
    "# itertools import: for dictionary slicing \n",
    "from itertools import islice \n",
    "\n",
    "class Customer():\n",
    " \n",
    "    # function to init the customer object. \n",
    "    def __init__(self):\n",
    "        \"\"\"Fill in here.\"\"\"\n",
    "        self.dict_items = {}\n",
    "        self.total = 0\n",
    "        self.name = \"\"\n",
    "        self.age = 0\n",
    "        self.gender = \"\"\n",
    "        self.dresses_bought = 0\n",
    "    \n",
    "    # function determine total items bought \n",
    "    def buy_item(self, item_name, quantity, price):\n",
    "        \"\"\"Fill in here.\"\"\"\n",
    "        # get the total \n",
    "        self.total = price * quantity \n",
    "        # add entry to the dict (using Python key, value shortcut)\n",
    "        self.dict_items.update({item_name: quantity})\n",
    "        # if the customer has spent excess amount on the budget, then \n",
    "        # print out the total items that caused the excess \n",
    "        if (self.total) > 500:\n",
    "            # the excess that led to the budget overspending.\n",
    "            n = len(dict_items) - quantity \n",
    "            print(\"Items in excess\")\n",
    "            print(list(islice(self.dict_items,n)))\n",
    "    \n",
    "    # function to remove items left in the customer's budget.\n",
    "    def remove_item(self, item_name, quantity, price):\n",
    "        \"\"\"Fill in here.\"\"\"\n",
    "        if item_name in self.dict_items:\n",
    "            # ensure no duplicates in the shopping cart for items \n",
    "            if quantity > 0 and quantity < self.dict_items[item_name]:\n",
    "                # remove the item here. \n",
    "                self.dict_items[item_name] -= quantity \n",
    "                # reduce quantity from the total \n",
    "                self.total -= price * quantity \n",
    "            \n",
    "            # quantity of an item to be removed exceeds the current quantity \n",
    "            # of that item in the cart, assume that all entries of that item are to be removed.\n",
    "        elif quantity >= self.dict_items[item_name]:\n",
    "            self.total -= self.dict_items[item_name] * price \n",
    "            # remove with \"del\" function\n",
    "            del self.dict_items[item_name]\n",
    "            \n",
    "        self.name = input(\"Name: \")\n",
    "        if self.name == \"\":\n",
    "            print(\"Customer not available, please wait.\")\n",
    "        # determine how many items are left \n",
    "        print(\"The number of items left for Customer \" \n",
    "                  + self.name + \" : \" + str(len(self.dict_items)))\n",
    "        \n",
    "        \n",
    "    # function confirm the checkout of the items bought from customer.\n",
    "    def confirm_checkout(self, items, checkout, total_price, cash_paid):\n",
    "        \"\"\"Fill in here.\"\"\"\n",
    "        # find the value of balance from payment. \n",
    "        if cash_paid < self.total:\n",
    "            return \"Cash paid not enough\"\n",
    "        balance =  cash_paid - self.total\n",
    "        print(\"The balance is: \" + str(balance))\n",
    "        \n",
    "        # check the calculated price from Cashier Class, which \n",
    "        # is already defined as self.total \n",
    "        if total_price == cash_paid:\n",
    "            print(\"Checkout approved, have a nice day.\")\n",
    "            self.checkout = True \n",
    "            checkout = self.checkout \n",
    "            return checkout\n",
    "        self.checkout = False \n",
    "        checkout = self.checkout\n",
    "        return checkout\n",
    "        return balance \n",
    "        \n",
    "        \n",
    "    # function to have customer ask question(s), memoize the answers,\n",
    "    # and get answer from cashier (similar to an actual checkout situation).\n",
    "    def ask_question(self, question, answer):\n",
    "        \"\"\"Fill in here.\"\"\"\n",
    "        question = input(\"What is your question?\")\n",
    "        if question is None or question == \"\":\n",
    "            print(\"Cashier not available, ask later.\")\n",
    "        else:\n",
    "            answer = input(\"The answer is: \")\n",
    "            print(question)\n",
    "            print(answer)\n",
    "        \n",
    "# Shop inheritance over customer class. \n",
    "class Shop(Customer):\n",
    "    \n",
    "    def __init__():\n",
    "        self.quantity = 100\n",
    "    \n",
    "    def remove_item(self):\n",
    "        self.quantity -= 1\n",
    "        \n",
    "    def default_question(self):\n",
    "        self.question = \"Hello. How are you?\" "
   ]
  },
  {
   "cell_type": "code",
   "execution_count": 21,
   "metadata": {},
   "outputs": [
    {
     "name": "stdout",
     "output_type": "stream",
     "text": [
      "Name: Jason \n",
      "The number of items left for Customer Jason  : 1\n",
      "What is your question?How to check for register price?\n",
      "The answer is: On the receipt. Thank you. \n",
      "How to check for register price?\n",
      "On the receipt. Thank you. \n",
      "The balance is: 1035\n",
      "Checkout approved, have a nice day.\n"
     ]
    },
    {
     "data": {
      "text/plain": [
       "True"
      ]
     },
     "execution_count": 21,
     "metadata": {},
     "output_type": "execute_result"
    }
   ],
   "source": [
    "# Assertion Tests (PDP style)\n",
    "\n",
    "\"\"\"Add in test cases here.\"\"\"\n",
    "\n",
    "# Test 1: customer with no items, just questions. \n",
    "customer = Customer()\n",
    "customer.buy_item(\"Curry 6\",1,50)\n",
    "# good sanity check, have to add items before removing items \n",
    "# customer.remove_item(\"Lebron Sneakers\",2,25)\n",
    "# now remove proper item \n",
    "customer.remove_item(\"Curry 6\",1,50)\n",
    "customer.ask_question(\"\", \"Cashier not available, ask later.\")\n",
    "items = {\"Curry 6\": 50, \"Canada Goose Coat\": 1000, \"Polo Shirt\": 35}\n",
    "customer.confirm_checkout(items, True, 1085, 1085)\n",
    "# customer.confirm_checkout(items, False, 2000, 1085)"
   ]
  },
  {
   "cell_type": "markdown",
   "metadata": {},
   "source": [
    "# Cashier Class"
   ]
  },
  {
   "cell_type": "code",
   "execution_count": 18,
   "metadata": {
    "collapsed": true
   },
   "outputs": [],
   "source": [
    "# Coding: Cashier Class \n",
    "\n",
    "class Cashier(): \n",
    "    \n",
    "    # function to init the cashier (assume one cashier per set of customers.)\n",
    "    def __init__(self):\n",
    "        \"\"\"Fill in here.\"\"\"\n",
    "        self.dict_items = {}\n",
    "        self.total = 0\n",
    "        self.name = \"\"\n",
    "        self.age = 0\n",
    "        self.gender = \"\"\n",
    "        self.dresses_bought = 0\n",
    "        # Set false whenever cashier closes register.\n",
    "        self.open = True \n",
    "        self.checkout = False \n",
    "        \n",
    "    # function for cashier to determine if the items checked out\n",
    "    # is valid in value and in quantity. \n",
    "    def checkout_item(self, items, checkout, total_price, quantity, valid):\n",
    "        \"\"\"Fill in here.\"\"\"\n",
    "        # check validity of the items. \n",
    "        cashier_total = 0\n",
    "        item_name = \"\"\n",
    "        for i in range(len(items)):\n",
    "            item_name = input(\"Enter item name: \")\n",
    "            i += 1 \n",
    "        total_price = 0\n",
    "        for i in range(len(items)):\n",
    "            total_price = eval(input())\n",
    "        # register dictionary to store the items. \n",
    "        register = {}\n",
    "         # get the total \n",
    "        self.total = total_price * quantity \n",
    "        # add entry to the dict (using Python key, value shortcut)\n",
    "        register.update({item_name: quantity})\n",
    "        self.dict_items.update({item_name: quantity})\n",
    "        # if the customer has spent excess amount on the budget, then \n",
    "        # print out the total items that caused the excess \n",
    "        if len(self.dict_items) != len(register):\n",
    "            print(\"Checked items not valid.\")\n",
    "            return self.checkout \n",
    "        if len(self.dict_items) == 0 or len(register) == 0:\n",
    "            print(\"Checked items not valid.\")\n",
    "            return self.checkout\n",
    "        else:\n",
    "            self.checkout = True\n",
    "            valid = True \n",
    "            print(\"Checked out items valid.\")\n",
    "            # print out the key value pairs for the items, as a receipt\n",
    "            print(\"Your receipt is: \\n\")\n",
    "            for key, value in self.dict_items.items() :\n",
    "                print(key, value)\n",
    "           \n",
    "        \n",
    "    # function for cashier to answer a customer's question.\n",
    "    def answer_question(self, answer, question):\n",
    "        \"\"\"Fill in here.\"\"\"\n",
    "        name = input()\n",
    "        # ensure customer has no more items to check out \n",
    "        self.checkout = False \n",
    "        if question is None or question == \"\" or len(question) == 0:\n",
    "            print(\"Did not get the question. Try again.\")\n",
    "        cashier_name = \"Cashier: \" + name \n",
    "        answer = input(\"The answer is: \")\n",
    "        print(question)\n",
    "        print(answer)\n",
    "        print(cashier_name + \" has checked out your items. Have a good day.\")\n",
    "        \n",
    "# Shop inheritance over customer class. \n",
    "class Shop(Cashier):\n",
    "    \n",
    "    def __init__():\n",
    "        self.quantity = 100\n",
    "    \n",
    "    def remove_item(self):\n",
    "        self.quantity -= 1\n",
    "        \n",
    "    def default_question(self):\n",
    "        self.question = \"Hello. How are you?\" "
   ]
  },
  {
   "cell_type": "code",
   "execution_count": 19,
   "metadata": {},
   "outputs": [
    {
     "name": "stdout",
     "output_type": "stream",
     "text": [
      "Final total: 1085\n",
      "Enter item name: Curry 6\n",
      "Enter item name: Canada Goose Coat \n",
      "Enter item name: Polo Shirt \n",
      "50\n",
      "1000\n",
      "35\n",
      "Checked out items valid.\n",
      "Your receipt is: \n",
      "\n",
      "Polo Shirt  1085\n",
      "Dora\n",
      "The answer is: On the register \n",
      "How may I verify the checkout?\n",
      "On the register \n",
      "Cashier: Dora has checked out your items. Have a good day.\n"
     ]
    }
   ],
   "source": [
    "# Assertion Tests (PDP style)\n",
    "\n",
    "\"\"\"Add in test cases here. \"\"\"\n",
    "\n",
    "# Cashier \n",
    "cash = Cashier() \n",
    "items = {\"Curry 6\": 50, \"Canada Goose Coat\": 1000, \"Polo Shirt\": 35}\n",
    "# sum the item values. \n",
    "verify_checkout = sum(items.values())\n",
    "print(\"Final total: \" + str(verify_checkout))\n",
    "cash.checkout_item(items, True, 1085, 1085, True)\n",
    "cash.answer_question(\"On the register\", \"How may I verify the checkout?\")"
   ]
  },
  {
   "cell_type": "markdown",
   "metadata": {},
   "source": [
    "# The customer interaction: \n",
    "\n",
    "This is just an amalgamation of a potential customer interaction between the cashier, customer: \n",
    "Bold: denotes the verbatim output. \n",
    "\n",
    "Obviously, given that we are using strict HCI principles of cognition, the results are rather robotic, and not very human. The program just simulates what was recalled in the interaction between cashier and customer. \n",
    "\n",
    "Hello Jason, here is your balance from Selenium Shops: \n",
    "\n",
    "#### The balance is: 168\n",
    "#### The total is: 139\n",
    "#### The balance is: 139\n",
    "Total balance is: \n",
    "#### 139\n",
    "\n",
    "Your interaction was described as follows: \n",
    "\n",
    "#### Name: Jason \n",
    "Items checked out: \n",
    "\n",
    "Curry 6               50 dollars \n",
    "Canada Goose Coat:  1000 dollars \n",
    "Polo Shirts:          35 dollars \n",
    "#### The number of items left for Customer Jason  : 1\n",
    "#### What is your question?How may I check the items left? \n",
    "#### The answer is: You can check in your receipt from the cashier. \n",
    "\n",
    "Asked Cashier Dora: \n",
    "\n",
    "#### How may I check the items left? \n",
    "You can check in your receipt from the cashier. \n",
    "The balance is: 1035\n",
    "Checkout approved, have a nice day.\n",
    "The balance is: 1034\n",
    "False\n",
    "\n",
    "Answered by Cashier Dora: \n",
    "#### Final total: 1085\n",
    "#### Enter item name: Curry 6\n",
    "#### Enter item name: Canada Goose Coat \n",
    "#### Enter item name: Polo Shirt \n",
    "#### 50\n",
    "#### 1000\n",
    "#### 35\n",
    "#### Checked out items valid.\n",
    "\n",
    "#### Your receipt is: \n",
    "\n",
    "Selenium Shops Inc. \n",
    "_______________________\n",
    "\n",
    "Curry 6 Sneakers  $50\n",
    "\n",
    "Canada Goose Coat: $1000\n",
    "\n",
    "Polo Shirt: $35 \n",
    "\n",
    "Total: $1085 \n",
    "\n",
    "#### The answer is: On the register \n",
    "#### How may I verify the checkout?\n",
    "#### On the register \n",
    "#### Cashier Dora has checked out your items. Have a good day.\n"
   ]
  },
  {
   "cell_type": "markdown",
   "metadata": {},
   "source": [
    "# Answer to Q3 (Dictionary vs. Hash Table vs. List Tuple For Cognition) \n",
    "\n",
    "The reason why we use a dictionary as compared to the hash table or list tuple is mainly for ability to make immutable cognition processes, or in other words, once something has been confirmed, we cannot take it back. In addition, the dictionary <key,value> property in Python allows us to quickly verify if a particular item has been misplaced by a pricing, or vice a versa. Each key in a dictionary can only be paired with one unique value, which makes the dictionary as a data structure immutable without re-writing the values to the array, much like the register and receipt in a real world shopping scenario. \n",
    "\n",
    "If we had to use a hash table, we would have to know what was the hashing value of the key to the value (as in a cryptographic fashion), and for a real-life shopping application, that would simply be impractical. Also, for the list tuple, we can only hold a finite amount of items and that it would be very unrealistic to know exactly what index the item was put into, let alone the key and value. \n",
    "\n",
    "So, in summary, the dictionary is preferable for cognition and information processes for HCI applications, such as this Selenium Shops Python Application, for the following: \n",
    "\n",
    "#### Runtime:\n",
    "\n",
    "Dictionary: <key,value> search: O(1) \n",
    "\n",
    "Hash Table: O(1) without hash, O(n) with hash \n",
    "\n",
    "List Tuple: O(n^2) with full list, O(n) if just linear search \n",
    "\n",
    "#### Practicality: \n",
    "\n",
    "Dictionary: Can be practical, \"human friendly\", similar to that of a human interaction between checking the item names and matching them with item prices on a real shopping list. \n",
    "\n",
    "Hash Table: Not practical for cryptographic reasons, not every hash can be to each item in the table, and linear collision would mean the non CS equivalent of having duplicate items. Selenium Shops, which mirrors a big outlet retailer like Macys, Premium Outlets, seldom make that type of mistake, or the cashier would be fired. \n",
    "\n",
    "List Tuple: Simply too much to memorize in a system, a key and value pair to each index of the tuple. \n",
    "\n",
    "#### Usability: \n",
    "\n",
    "Dictionary: Usable for any finite number of items, even if the receipt had missing items (a real life possibility,\n",
    "considering human error in checkouts).  \n",
    "\n",
    "Hash Table: Useful until duplicate items or missing items occur. \n",
    "\n",
    "List Tuple: Simply not practical at all for application. "
   ]
  },
  {
   "cell_type": "markdown",
   "metadata": {},
   "source": [
    "# Summary of the Chasier, Customer, and Shopping Cart Interaction: "
   ]
  },
  {
   "cell_type": "markdown",
   "metadata": {},
   "source": [
    "# Coding From Matlab to draw the line graph for each customer purchase in the interaction. "
   ]
  },
  {
   "cell_type": "markdown",
   "metadata": {
    "collapsed": true
   },
   "source": [
    "CreateLinePlotFromMatrixExample.mlx \n",
    "\n",
    "% HCI Pre Lecture Assignment 2 \n",
    "% Coding for the line graph of each customer's purchase \n",
    "\n",
    "% Items purchased by customer Jason \n",
    "% x-axis: the number of items purchased \n",
    "$ y-axis: the price of each item purchased \n",
    "\n",
    "jason = [1 2 3 2 2 1 1; 50 1000 35 26 29 16 29]\n",
    "\n",
    "% Plot the Jason Graph. \n",
    "\n",
    "figure\n",
    "plot(jason) \n",
    "\n",
    "% scaling for the graph.\n",
    "xlim([1.000, 2.000])\n",
    "ylim([1 1000])\n",
    "\n",
    "% Add some labels for the graph. \n",
    "title('Selenium Shops Purchases From Customer Jason')\n",
    "% add the x-axis and y-axis captions \n",
    "xlabel('Number of items purchased') \n",
    "ylabel('The price of each item (in $)') "
   ]
  },
  {
   "cell_type": "markdown",
   "metadata": {
    "collapsed": true
   },
   "source": [
    "# Resulting Line Graph From Code: "
   ]
  },
  {
   "cell_type": "markdown",
   "metadata": {},
   "source": [
    "![alt text](line_graph_matlab.png \"Selenium Shops Line Graph\")"
   ]
  },
  {
   "cell_type": "code",
   "execution_count": null,
   "metadata": {
    "collapsed": true
   },
   "outputs": [],
   "source": []
  }
 ],
 "metadata": {
  "kernelspec": {
   "display_name": "Python 3",
   "language": "python",
   "name": "python3"
  },
  "language_info": {
   "codemirror_mode": {
    "name": "ipython",
    "version": 3
   },
   "file_extension": ".py",
   "mimetype": "text/x-python",
   "name": "python",
   "nbconvert_exporter": "python",
   "pygments_lexer": "ipython3",
   "version": "3.6.3"
  }
 },
 "nbformat": 4,
 "nbformat_minor": 2
}
